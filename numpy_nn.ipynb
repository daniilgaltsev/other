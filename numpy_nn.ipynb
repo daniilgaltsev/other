{
  "nbformat": 4,
  "nbformat_minor": 0,
  "metadata": {
    "colab": {
      "provenance": []
    },
    "kernelspec": {
      "name": "python3",
      "display_name": "Python 3"
    },
    "language_info": {
      "name": "python"
    }
  },
  "cells": [
    {
      "cell_type": "code",
      "execution_count": 1,
      "metadata": {
        "id": "d_RNi5QlCNxN"
      },
      "outputs": [],
      "source": [
        "import numpy as np"
      ]
    },
    {
      "cell_type": "code",
      "source": [
        "def linear_forward(X, w, b):\n",
        "    return X @ w + b\n",
        "\n",
        "def relu_forward(X):\n",
        "    return np.maximum(X, 0)\n",
        "\n",
        "def linear_backward(X, w, b, dlinear):\n",
        "    db = dlinear.mean(axis=0)\n",
        "    dw = X.T @ dlinear\n",
        "    dX = dlinear @ w.T\n",
        "    return dX, dw, db\n",
        "\n",
        "def relu_backward(X, drelu):\n",
        "    return (X > 0) * drelu"
      ],
      "metadata": {
        "id": "5xDoJC8GihJu"
      },
      "execution_count": 2,
      "outputs": []
    },
    {
      "cell_type": "code",
      "source": [
        "def error_func(predicted, true):\n",
        "    return np.square(predicted - true).mean()\n",
        "\n",
        "def derror_func(predicted, true):\n",
        "    return (predicted - true) * (2 / np.prod(predicted.shape))"
      ],
      "metadata": {
        "id": "g_458eWRmaAi"
      },
      "execution_count": 3,
      "outputs": []
    },
    {
      "cell_type": "code",
      "source": [
        "INPUT_SIZE = 10\n",
        "OUTPUT_SIZE = 2\n",
        "LINEAR_SIZE = 10\n",
        "SAMPLE_SIZE = 100\n",
        "\n",
        "lr = 0.01"
      ],
      "metadata": {
        "id": "zDB1ISVqmgUh"
      },
      "execution_count": 4,
      "outputs": []
    },
    {
      "cell_type": "code",
      "source": [
        "inp = np.random.normal(size=(100, INPUT_SIZE))\n",
        "out = np.random.normal(size=(100, OUTPUT_SIZE))\n",
        "\n",
        "linear1_w = np.random.normal(size=(INPUT_SIZE, LINEAR_SIZE))\n",
        "linear1_b = np.random.normal(size=LINEAR_SIZE)\n",
        "linear2_w = np.random.normal(size=(LINEAR_SIZE, OUTPUT_SIZE))\n",
        "linear2_b = np.random.normal(size=OUTPUT_SIZE)\n",
        "\n",
        "lr = 0.01\n",
        "for i in range(500):\n",
        "\n",
        "    linear1_out = linear_forward(inp, linear1_w, linear1_b)\n",
        "    relu_out = relu_forward(linear1_out)\n",
        "    linear2_out = linear_forward(relu_out, linear2_w, linear2_b)\n",
        "\n",
        "    error = error_func(linear2_out, out)\n",
        "    if i % 50 == 0:\n",
        "        print(i, error)\n",
        "    dlinear2_out = derror_func(linear2_out, out)\n",
        "\n",
        "    drelu_out, dlinear2_w, dlinear2_b = linear_backward(relu_out, linear2_w, linear2_b, dlinear2_out)\n",
        "    dlinear1_out = relu_backward(linear1_out, drelu_out)\n",
        "    dinp, dlinear1_w, dlinear1_b = linear_backward(inp, linear1_w, linear1_b, dlinear1_out)\n",
        "    \n",
        "    linear1_w -= lr * dlinear1_w\n",
        "    linear1_b -= lr * dlinear1_b\n",
        "    linear2_w -= lr * dlinear2_w\n",
        "    linear2_b -= lr * dlinear2_b\n",
        "print(i, error)"
      ],
      "metadata": {
        "colab": {
          "base_uri": "https://localhost:8080/"
        },
        "id": "fPIRTiekk2hq",
        "outputId": "edca0e5a-9bad-4a7a-ec4a-be95eb353b6b"
      },
      "execution_count": 5,
      "outputs": [
        {
          "output_type": "stream",
          "name": "stdout",
          "text": [
            "0 24.54572734903997\n",
            "50 2.436612368551602\n",
            "100 1.6554576287017528\n",
            "150 1.4168705912377784\n",
            "200 1.2947483194218647\n",
            "250 1.213519032381727\n",
            "300 1.163767340124988\n",
            "350 1.1361367378962677\n",
            "400 1.1160875356622313\n",
            "450 1.0994470453328942\n",
            "499 1.0853518093838914\n"
          ]
        }
      ]
    },
    {
      "cell_type": "code",
      "source": [],
      "metadata": {
        "id": "o072orWXlxqI"
      },
      "execution_count": 5,
      "outputs": []
    },
    {
      "cell_type": "markdown",
      "source": [
        "# Dropout"
      ],
      "metadata": {
        "id": "ufFfRA52ogUS"
      }
    },
    {
      "cell_type": "code",
      "source": [
        "def dropout_forward(X, p, eval):\n",
        "    if eval:\n",
        "        return X * (1 - p)\n",
        "    mask = (np.random.uniform(low=0, high=1.0, size=X.shape) > p)\n",
        "    return X * mask, mask\n",
        "\n",
        "def dropout_backward(mask, ddropout):\n",
        "    return mask * ddropout"
      ],
      "metadata": {
        "id": "Ro_cEp-QnOla"
      },
      "execution_count": 6,
      "outputs": []
    },
    {
      "cell_type": "code",
      "source": [
        "p = 0.5"
      ],
      "metadata": {
        "id": "3GlN-AbTn8T2"
      },
      "execution_count": 7,
      "outputs": []
    },
    {
      "cell_type": "code",
      "source": [
        "inp = np.random.normal(size=(100, INPUT_SIZE))\n",
        "out = np.random.normal(size=(100, OUTPUT_SIZE))\n",
        "\n",
        "linear1_w = np.random.normal(size=(INPUT_SIZE, LINEAR_SIZE))\n",
        "linear1_b = np.random.normal(size=LINEAR_SIZE)\n",
        "linear2_w = np.random.normal(size=(LINEAR_SIZE, OUTPUT_SIZE))\n",
        "linear2_b = np.random.normal(size=OUTPUT_SIZE)\n",
        "\n",
        "lr = 0.01\n",
        "for i in range(500):\n",
        "\n",
        "    linear1_out = linear_forward(inp, linear1_w, linear1_b)\n",
        "    relu_out = relu_forward(linear1_out)\n",
        "    dropout_out, dropout_mask = dropout_forward(relu_out, p, False)\n",
        "    linear2_out = linear_forward(dropout_out, linear2_w, linear2_b)\n",
        "\n",
        "    error = error_func(linear2_out, out)\n",
        "    if i % 50 == 0:\n",
        "        print(i, error)\n",
        "    dlinear2_out = derror_func(linear2_out, out)\n",
        "\n",
        "    ddropout_out, dlinear2_w, dlinear2_b = linear_backward(relu_out, linear2_w, linear2_b, dlinear2_out)\n",
        "    drelu_out = dropout_backward(dropout_mask, ddropout_out)\n",
        "    dlinear1_out = relu_backward(linear1_out, drelu_out)\n",
        "    dinp, dlinear1_w, dlinear1_b = linear_backward(inp, linear1_w, linear1_b, dlinear1_out)\n",
        "    \n",
        "    linear1_w -= lr * dlinear1_w\n",
        "    linear1_b -= lr * dlinear1_b\n",
        "    linear2_w -= lr * dlinear2_w\n",
        "    linear2_b -= lr * dlinear2_b\n",
        "print(i, error)"
      ],
      "metadata": {
        "colab": {
          "base_uri": "https://localhost:8080/"
        },
        "id": "7vehLXEen9TZ",
        "outputId": "a3ca4c33-d568-4313-99c2-41d6da69de8a"
      },
      "execution_count": 8,
      "outputs": [
        {
          "output_type": "stream",
          "name": "stdout",
          "text": [
            "0 29.514139819124566\n",
            "50 4.373964836022686\n",
            "100 2.7392116645099356\n",
            "150 2.061508707697005\n",
            "200 1.8867119014298404\n",
            "250 1.6556199967182132\n",
            "300 1.315392639414344\n",
            "350 1.3191449906631487\n",
            "400 1.4437900664847456\n",
            "450 1.2892275810071152\n",
            "499 1.319652864542099\n"
          ]
        }
      ]
    },
    {
      "cell_type": "code",
      "source": [],
      "metadata": {
        "id": "QSAa8UqNo8MQ"
      },
      "execution_count": 8,
      "outputs": []
    }
  ]
}